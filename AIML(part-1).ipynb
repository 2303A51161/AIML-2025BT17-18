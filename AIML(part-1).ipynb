{
  "nbformat": 4,
  "nbformat_minor": 0,
  "metadata": {
    "colab": {
      "provenance": [],
      "authorship_tag": "ABX9TyOWwj+sX8MLasJVEShM26pb",
      "include_colab_link": true
    },
    "kernelspec": {
      "name": "python3",
      "display_name": "Python 3"
    },
    "language_info": {
      "name": "python"
    }
  },
  "cells": [
    {
      "cell_type": "markdown",
      "metadata": {
        "id": "view-in-github",
        "colab_type": "text"
      },
      "source": [
        "<a href=\"https://colab.research.google.com/github/2303A51161/AIML-2025BT17-18/blob/main/AIML(part-1).ipynb\" target=\"_parent\"><img src=\"https://colab.research.google.com/assets/colab-badge.svg\" alt=\"Open In Colab\"/></a>"
      ]
    },
    {
      "cell_type": "code",
      "execution_count": null,
      "metadata": {
        "id": "SXJ4DdZnyB_y"
      },
      "outputs": [],
      "source": [
        "import numpy as np\n",
        "import pandas as pd\n",
        "\n",
        "# LIST\n",
        "list1 = [1, 3, 4, 2, 5]\n",
        "print(list1)\n",
        "print(type(list1))\n",
        "print(type(list1[2]))\n",
        "print(type(list1[3]))\n",
        "\n",
        "# ARRAY\n",
        "array = np.array([1, 2, 3, 4, 5])\n",
        "print(array)\n",
        "print(type(array))\n",
        "\n",
        "multi =array * 2\n",
        "div =array / 2\n",
        "power =array ** 2\n",
        "print(\"Multiplication:\", multi)\n",
        "print(\"Division\", div)\n",
        "print(\"Power\", power)\n",
        "\n",
        "a1 = np.array([2, 4, 6, 1, 2])\n",
        "a2 = np.array([5, 4, 3, 2, 1])\n",
        "sum_arrays = a1 + a2\n",
        "print(\"ArraySum=\", sum_arrays)\n",
        "\n",
        "# EXTRA\n",
        "sin_values = np.sin(array)\n",
        "log_values = np.log(array)\n",
        "log2_values = np.log2(array)\n",
        "exp_values = np.exp(array)\n",
        "\n",
        "print(\"np.sin(array):\", sin_values)\n",
        "print(\"np.log(array):\", log_values)\n",
        "print(\"np.log2(array):\", log2_values)\n",
        "print(\"np.exp(array):\", exp_values)\n",
        "\n",
        "\n",
        "\n",
        "\n",
        "\n",
        "\n",
        "\n",
        "\n",
        "\n",
        "\n",
        "\n",
        "\n",
        "\n",
        "\n"
      ]
    }
  ]
}